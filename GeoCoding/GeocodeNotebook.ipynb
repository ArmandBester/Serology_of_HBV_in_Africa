{
 "cells": [
  {
   "cell_type": "markdown",
   "metadata": {},
   "source": [
    "### A notebook for geocoding"
   ]
  },
  {
   "cell_type": "code",
   "execution_count": 1,
   "metadata": {},
   "outputs": [],
   "source": [
    "import requests\n",
    "import time\n",
    "from IPython.display import clear_output"
   ]
  },
  {
   "cell_type": "markdown",
   "metadata": {},
   "source": [
    "#### A function for geocoding our locations\n"
   ]
  },
  {
   "cell_type": "code",
   "execution_count": 2,
   "metadata": {},
   "outputs": [],
   "source": [
    "def getLocation(query):\n",
    "    url = 'https://maps.googleapis.com/maps/api/geocode/json'\n",
    "    params = {'sensor': 'false', 'address': '{}'.format(query)}\n",
    "    r = requests.get(url, params=params)\n",
    "    results = r.json()['results']\n",
    "    location = results[0]['geometry']['location']\n",
    "    return location['lat'], location['lng']\n",
    "    "
   ]
  },
  {
   "cell_type": "markdown",
   "metadata": {},
   "source": [
    "#### Example of getting a location"
   ]
  },
  {
   "cell_type": "code",
   "execution_count": 3,
   "metadata": {},
   "outputs": [
    {
     "data": {
      "text/plain": [
       "(12.3714277, -1.5196603)"
      ]
     },
     "execution_count": 3,
     "metadata": {},
     "output_type": "execute_result"
    }
   ],
   "source": [
    "getLocation(\"Burkina Faso,Ouagadougou (urban)\")"
   ]
  },
  {
   "cell_type": "markdown",
   "metadata": {},
   "source": [
    "#### Read in the unified data from R"
   ]
  },
  {
   "cell_type": "code",
   "execution_count": 1,
   "metadata": {},
   "outputs": [],
   "source": [
    "places = open('uniquePlaces.csv', 'r').readlines()\n",
    "places = places[1:]\n"
   ]
  },
  {
   "cell_type": "code",
   "execution_count": 21,
   "metadata": {},
   "outputs": [
    {
     "name": "stdout",
     "output_type": "stream",
     "text": [
      "['\"1\",\"Angola, Luanda\"\\n', '\"2\",\"Benin, Cotonou\"\\n', '\"3\",\"Benin, Atacora District\"\\n', '\"4\",\"Botswana, Gaberone\"\\n', '\"5\",\"Burkina Faso, Bobo Dioulasso\"\\n']\n"
     ]
    }
   ],
   "source": [
    "print(places[0:5])"
   ]
  },
  {
   "cell_type": "markdown",
   "metadata": {},
   "source": [
    "#### A loop to query each of our hospitals or clinics"
   ]
  },
  {
   "cell_type": "code",
   "execution_count": 25,
   "metadata": {},
   "outputs": [
    {
     "name": "stdout",
     "output_type": "stream",
     "text": [
      "(-17.8251657, 31.03351)\n",
      "Progress: 76/76\n",
      "-17.8251657|31.03351|\"Zimbabwe, Harare\"\n",
      "\n"
     ]
    }
   ],
   "source": [
    "outFile = open(\"placesWithlocs.csv\", \"w\")\n",
    "n = 0\n",
    "k = len(places)\n",
    "retries = 30\n",
    "for place in places:\n",
    "    place = str(place).split(\",\", 1)[1]\n",
    "    outFile = open(\"placesWithlocs.csv\", \"a\")\n",
    "    tmp = str(place).replace(\"\\n\", \"\")\n",
    "    print(tmp)\n",
    "    \n",
    "    for i in range(retries):\n",
    "        time.sleep(0.5)\n",
    "        try:\n",
    "            loc  = getLocation(tmp)\n",
    "            print(\"loc found\")\n",
    "            n += 1\n",
    "             \n",
    "        except IndexError:\n",
    "            print(\"loc failed\")\n",
    "            print(\"retry: {}/{}\".format(i, retries))   \n",
    "            continue\n",
    "        else:\n",
    "            break\n",
    "    else:\n",
    "        loc = \"'NULL', 'NULL'\"\n",
    "        n += 1       \n",
    "        \n",
    "    \n",
    "    clear_output(wait=True)\n",
    "    print(loc)\n",
    "    print (\"Progress: {}/{}\".format(n,k))   \n",
    "    \n",
    "    result = str(loc[0]) + \"|\" + str(loc[1]) + \"|\" + place\n",
    "    \n",
    "    print(result)\n",
    "    \n",
    "    outFile.write(result)\n",
    "    outFile.close()\n",
    "    "
   ]
  },
  {
   "cell_type": "markdown",
   "metadata": {},
   "source": [
    "#### Explore the sites which failed geocoding "
   ]
  },
  {
   "cell_type": "code",
   "execution_count": 12,
   "metadata": {},
   "outputs": [
    {
     "name": "stdout",
     "output_type": "stream",
     "text": [
      "0\r\n"
     ]
    }
   ],
   "source": [
    "! cat placesWithlocs.csv | wc -l "
   ]
  },
  {
   "cell_type": "code",
   "execution_count": null,
   "metadata": {},
   "outputs": [],
   "source": [
    "!cat placesWithlocs.csv | grep NULL | wc -l"
   ]
  },
  {
   "cell_type": "raw",
   "metadata": {},
   "source": [
    "We will sanity check these locations"
   ]
  },
  {
   "cell_type": "code",
   "execution_count": null,
   "metadata": {},
   "outputs": [],
   "source": [
    "!cat placesWithlocs.csv"
   ]
  }
 ],
 "metadata": {
  "kernelspec": {
   "display_name": "Python 3",
   "language": "python",
   "name": "python3"
  },
  "language_info": {
   "codemirror_mode": {
    "name": "ipython",
    "version": 3
   },
   "file_extension": ".py",
   "mimetype": "text/x-python",
   "name": "python",
   "nbconvert_exporter": "python",
   "pygments_lexer": "ipython3",
   "version": "3.5.2"
  }
 },
 "nbformat": 4,
 "nbformat_minor": 2
}
